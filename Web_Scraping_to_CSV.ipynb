{
 "cells": [
  {
   "cell_type": "code",
   "execution_count": 2,
   "metadata": {
    "collapsed": true
   },
   "outputs": [],
   "source": [
    "import numpy as np\n",
    "import pandas as pd\n",
    "from bs4 import BeautifulSoup as BS\n",
    "import requests"
   ]
  },
  {
   "cell_type": "code",
   "execution_count": 4,
   "metadata": {
    "collapsed": false
   },
   "outputs": [],
   "source": [
    "url = 'http://www.imdb.com/chart/top?ref_=nv_mv_250_6'\n",
    "r = requests.get(url)\n",
    "#print r.text"
   ]
  },
  {
   "cell_type": "code",
   "execution_count": 5,
   "metadata": {
    "collapsed": true
   },
   "outputs": [],
   "source": [
    "soup = BS(r.text, 'html.parser')"
   ]
  },
  {
   "cell_type": "code",
   "execution_count": 6,
   "metadata": {
    "collapsed": false
   },
   "outputs": [
    {
     "name": "stdout",
     "output_type": "stream",
     "text": [
      "<class 'bs4.BeautifulSoup'>\n"
     ]
    }
   ],
   "source": [
    "print type(soup)"
   ]
  },
  {
   "cell_type": "code",
   "execution_count": 70,
   "metadata": {
    "collapsed": true
   },
   "outputs": [],
   "source": [
    "TITLES = []\n",
    "RATINGS = []\n",
    "URLS = []\n",
    "YEARS = []\n",
    "\n",
    "DIRECTOR = []\n",
    "ACTORS = []"
   ]
  },
  {
   "cell_type": "code",
   "execution_count": 13,
   "metadata": {
    "collapsed": false
   },
   "outputs": [
    {
     "name": "stdout",
     "output_type": "stream",
     "text": [
      "1\n"
     ]
    }
   ],
   "source": [
    "divs = soup.find_all('div', {'class' : 'lister'})\n",
    "print len(divs)"
   ]
  },
  {
   "cell_type": "code",
   "execution_count": 16,
   "metadata": {
    "collapsed": false
   },
   "outputs": [
    {
     "name": "stdout",
     "output_type": "stream",
     "text": [
      "<class 'bs4.element.ResultSet'>\n",
      "251\n"
     ]
    }
   ],
   "source": [
    "div = divs[0]\n",
    "rows = div.find_all('tr')\n",
    "print type(rows)\n",
    "print len(rows)"
   ]
  },
  {
   "cell_type": "code",
   "execution_count": 71,
   "metadata": {
    "collapsed": false
   },
   "outputs": [],
   "source": [
    "count = 0\n",
    "for row in rows[1:]:\n",
    "#     if count>1:\n",
    "#         break\n",
    "    #print count, \n",
    "    #print row\n",
    "    count+=1\n",
    "    title_Column = row.find('td', {'class':'titleColumn'})\n",
    "    anchor = title_Column.find('a')\n",
    "    movie_title = anchor.text\n",
    "    movie_rel_url = anchor['href']\n",
    "    director = anchor['title'].split(',')[0].split('(')[0]\n",
    "    actors = ','.join(anchor['title'].split(',')[1:])\n",
    "    movie_url = 'http://www.imdb.com' + movie_rel_url\n",
    "    year_data = title_Column.find('span')\n",
    "    year = year_data.text.split('(')[-1].split(')')[0]\n",
    "    \n",
    "    rating_Column = row.find('strong')\n",
    "    rating = rating_Column.text\n",
    "    #print movie_title, year, rating, movie_url\n",
    "    #print '--------------'\n",
    "    TITLES.append(str(movie_title.encode('utf-8', 'ignore')))\n",
    "    URLS.append(str(movie_url.encode('utf-8', 'ignore')))\n",
    "    RATINGS.append(str(rating.encode('utf-8', 'ignore')))\n",
    "    YEARS.append(year)\n",
    "    \n",
    "    ACTORS.append(str(actors.encode('utf-8', 'ignore')))\n",
    "    DIRECTOR.append(str(director.encode('utf-8', 'ignore')))"
   ]
  },
  {
   "cell_type": "code",
   "execution_count": 72,
   "metadata": {
    "collapsed": false
   },
   "outputs": [
    {
     "name": "stdout",
     "output_type": "stream",
     "text": [
      "250 250 250 250 250 250\n"
     ]
    }
   ],
   "source": [
    "print len(TITLES), len(URLS), len(RATINGS), len(YEARS), len(ACTORS), len(DIRECTOR)"
   ]
  },
  {
   "cell_type": "code",
   "execution_count": 73,
   "metadata": {
    "collapsed": false
   },
   "outputs": [
    {
     "name": "stdout",
     "output_type": "stream",
     "text": [
      "<class 'pandas.core.frame.DataFrame'>\n"
     ]
    }
   ],
   "source": [
    "init_df = pd.DataFrame({'Title': TITLES, 'URL': URLS, 'Rating': RATINGS, 'Year': YEARS, 'Actors': ACTORS, 'Director': DIRECTOR})\n",
    "print type(init_df)"
   ]
  },
  {
   "cell_type": "code",
   "execution_count": 74,
   "metadata": {
    "collapsed": true
   },
   "outputs": [],
   "source": [
    "pd.set_option('display.max_columns', None)"
   ]
  },
  {
   "cell_type": "code",
   "execution_count": 75,
   "metadata": {
    "collapsed": false
   },
   "outputs": [
    {
     "data": {
      "text/html": [
       "<div>\n",
       "<table border=\"1\" class=\"dataframe\">\n",
       "  <thead>\n",
       "    <tr style=\"text-align: right;\">\n",
       "      <th></th>\n",
       "      <th>Actors</th>\n",
       "      <th>Director</th>\n",
       "      <th>Rating</th>\n",
       "      <th>Title</th>\n",
       "      <th>URL</th>\n",
       "      <th>Year</th>\n",
       "    </tr>\n",
       "  </thead>\n",
       "  <tbody>\n",
       "    <tr>\n",
       "      <th>0</th>\n",
       "      <td>Tim Robbins, Morgan Freeman</td>\n",
       "      <td>Frank Darabont</td>\n",
       "      <td>9.2</td>\n",
       "      <td>The Shawshank Redemption</td>\n",
       "      <td>http://www.imdb.com/title/tt0111161/?pf_rd_m=A...</td>\n",
       "      <td>1994</td>\n",
       "    </tr>\n",
       "    <tr>\n",
       "      <th>1</th>\n",
       "      <td>Marlon Brando, Al Pacino</td>\n",
       "      <td>Francis Ford Coppola</td>\n",
       "      <td>9.2</td>\n",
       "      <td>The Godfather</td>\n",
       "      <td>http://www.imdb.com/title/tt0068646/?pf_rd_m=A...</td>\n",
       "      <td>1972</td>\n",
       "    </tr>\n",
       "    <tr>\n",
       "      <th>2</th>\n",
       "      <td>Al Pacino, Robert De Niro</td>\n",
       "      <td>Francis Ford Coppola</td>\n",
       "      <td>9.0</td>\n",
       "      <td>The Godfather: Part II</td>\n",
       "      <td>http://www.imdb.com/title/tt0071562/?pf_rd_m=A...</td>\n",
       "      <td>1974</td>\n",
       "    </tr>\n",
       "    <tr>\n",
       "      <th>3</th>\n",
       "      <td>Christian Bale, Heath Ledger</td>\n",
       "      <td>Christopher Nolan</td>\n",
       "      <td>9.0</td>\n",
       "      <td>The Dark Knight</td>\n",
       "      <td>http://www.imdb.com/title/tt0468569/?pf_rd_m=A...</td>\n",
       "      <td>2008</td>\n",
       "    </tr>\n",
       "  </tbody>\n",
       "</table>\n",
       "</div>"
      ],
      "text/plain": [
       "                          Actors               Director Rating  \\\n",
       "0    Tim Robbins, Morgan Freeman        Frank Darabont     9.2   \n",
       "1       Marlon Brando, Al Pacino  Francis Ford Coppola     9.2   \n",
       "2      Al Pacino, Robert De Niro  Francis Ford Coppola     9.0   \n",
       "3   Christian Bale, Heath Ledger     Christopher Nolan     9.0   \n",
       "\n",
       "                      Title  \\\n",
       "0  The Shawshank Redemption   \n",
       "1             The Godfather   \n",
       "2    The Godfather: Part II   \n",
       "3           The Dark Knight   \n",
       "\n",
       "                                                 URL  Year  \n",
       "0  http://www.imdb.com/title/tt0111161/?pf_rd_m=A...  1994  \n",
       "1  http://www.imdb.com/title/tt0068646/?pf_rd_m=A...  1972  \n",
       "2  http://www.imdb.com/title/tt0071562/?pf_rd_m=A...  1974  \n",
       "3  http://www.imdb.com/title/tt0468569/?pf_rd_m=A...  2008  "
      ]
     },
     "execution_count": 75,
     "metadata": {},
     "output_type": "execute_result"
    }
   ],
   "source": [
    "init_df.head(n=4)"
   ]
  },
  {
   "cell_type": "code",
   "execution_count": 76,
   "metadata": {
    "collapsed": false
   },
   "outputs": [],
   "source": [
    "init_df.to_csv('./movies_data.csv', columns=['Title', 'URL', 'Year' ,'Rating', 'Actors', 'Director'], header=True, sep=',')"
   ]
  },
  {
   "cell_type": "code",
   "execution_count": 77,
   "metadata": {
    "collapsed": false
   },
   "outputs": [
    {
     "data": {
      "text/html": [
       "<div>\n",
       "<table border=\"1\" class=\"dataframe\">\n",
       "  <thead>\n",
       "    <tr style=\"text-align: right;\">\n",
       "      <th></th>\n",
       "      <th>Unnamed: 0</th>\n",
       "      <th>Title</th>\n",
       "      <th>URL</th>\n",
       "      <th>Year</th>\n",
       "      <th>Rating</th>\n",
       "      <th>Actors</th>\n",
       "      <th>Director</th>\n",
       "    </tr>\n",
       "  </thead>\n",
       "  <tbody>\n",
       "    <tr>\n",
       "      <th>0</th>\n",
       "      <td>0</td>\n",
       "      <td>The Shawshank Redemption</td>\n",
       "      <td>http://www.imdb.com/title/tt0111161/?pf_rd_m=A...</td>\n",
       "      <td>1994</td>\n",
       "      <td>9.2</td>\n",
       "      <td>Tim Robbins, Morgan Freeman</td>\n",
       "      <td>Frank Darabont</td>\n",
       "    </tr>\n",
       "    <tr>\n",
       "      <th>1</th>\n",
       "      <td>1</td>\n",
       "      <td>The Godfather</td>\n",
       "      <td>http://www.imdb.com/title/tt0068646/?pf_rd_m=A...</td>\n",
       "      <td>1972</td>\n",
       "      <td>9.2</td>\n",
       "      <td>Marlon Brando, Al Pacino</td>\n",
       "      <td>Francis Ford Coppola</td>\n",
       "    </tr>\n",
       "    <tr>\n",
       "      <th>2</th>\n",
       "      <td>2</td>\n",
       "      <td>The Godfather: Part II</td>\n",
       "      <td>http://www.imdb.com/title/tt0071562/?pf_rd_m=A...</td>\n",
       "      <td>1974</td>\n",
       "      <td>9.0</td>\n",
       "      <td>Al Pacino, Robert De Niro</td>\n",
       "      <td>Francis Ford Coppola</td>\n",
       "    </tr>\n",
       "    <tr>\n",
       "      <th>3</th>\n",
       "      <td>3</td>\n",
       "      <td>The Dark Knight</td>\n",
       "      <td>http://www.imdb.com/title/tt0468569/?pf_rd_m=A...</td>\n",
       "      <td>2008</td>\n",
       "      <td>9.0</td>\n",
       "      <td>Christian Bale, Heath Ledger</td>\n",
       "      <td>Christopher Nolan</td>\n",
       "    </tr>\n",
       "    <tr>\n",
       "      <th>4</th>\n",
       "      <td>4</td>\n",
       "      <td>12 Angry Men</td>\n",
       "      <td>http://www.imdb.com/title/tt0050083/?pf_rd_m=A...</td>\n",
       "      <td>1957</td>\n",
       "      <td>8.9</td>\n",
       "      <td>Henry Fonda, Lee J. Cobb</td>\n",
       "      <td>Sidney Lumet</td>\n",
       "    </tr>\n",
       "    <tr>\n",
       "      <th>5</th>\n",
       "      <td>5</td>\n",
       "      <td>Schindler's List</td>\n",
       "      <td>http://www.imdb.com/title/tt0108052/?pf_rd_m=A...</td>\n",
       "      <td>1993</td>\n",
       "      <td>8.9</td>\n",
       "      <td>Liam Neeson, Ralph Fiennes</td>\n",
       "      <td>Steven Spielberg</td>\n",
       "    </tr>\n",
       "  </tbody>\n",
       "</table>\n",
       "</div>"
      ],
      "text/plain": [
       "   Unnamed: 0                     Title  \\\n",
       "0           0  The Shawshank Redemption   \n",
       "1           1             The Godfather   \n",
       "2           2    The Godfather: Part II   \n",
       "3           3           The Dark Knight   \n",
       "4           4              12 Angry Men   \n",
       "5           5          Schindler's List   \n",
       "\n",
       "                                                 URL  Year  Rating  \\\n",
       "0  http://www.imdb.com/title/tt0111161/?pf_rd_m=A...  1994     9.2   \n",
       "1  http://www.imdb.com/title/tt0068646/?pf_rd_m=A...  1972     9.2   \n",
       "2  http://www.imdb.com/title/tt0071562/?pf_rd_m=A...  1974     9.0   \n",
       "3  http://www.imdb.com/title/tt0468569/?pf_rd_m=A...  2008     9.0   \n",
       "4  http://www.imdb.com/title/tt0050083/?pf_rd_m=A...  1957     8.9   \n",
       "5  http://www.imdb.com/title/tt0108052/?pf_rd_m=A...  1993     8.9   \n",
       "\n",
       "                          Actors               Director  \n",
       "0    Tim Robbins, Morgan Freeman        Frank Darabont   \n",
       "1       Marlon Brando, Al Pacino  Francis Ford Coppola   \n",
       "2      Al Pacino, Robert De Niro  Francis Ford Coppola   \n",
       "3   Christian Bale, Heath Ledger     Christopher Nolan   \n",
       "4       Henry Fonda, Lee J. Cobb          Sidney Lumet   \n",
       "5     Liam Neeson, Ralph Fiennes      Steven Spielberg   "
      ]
     },
     "execution_count": 77,
     "metadata": {},
     "output_type": "execute_result"
    }
   ],
   "source": [
    "df = pd.read_csv('movies_data.csv')\n",
    "df.head(n=6)"
   ]
  },
  {
   "cell_type": "code",
   "execution_count": 78,
   "metadata": {
    "collapsed": false
   },
   "outputs": [
    {
     "data": {
      "text/html": [
       "<div>\n",
       "<table border=\"1\" class=\"dataframe\">\n",
       "  <thead>\n",
       "    <tr style=\"text-align: right;\">\n",
       "      <th></th>\n",
       "      <th>Title</th>\n",
       "      <th>URL</th>\n",
       "      <th>Year</th>\n",
       "      <th>Rating</th>\n",
       "      <th>Actors</th>\n",
       "      <th>Director</th>\n",
       "    </tr>\n",
       "  </thead>\n",
       "  <tbody>\n",
       "    <tr>\n",
       "      <th>0</th>\n",
       "      <td>The Shawshank Redemption</td>\n",
       "      <td>http://www.imdb.com/title/tt0111161/?pf_rd_m=A...</td>\n",
       "      <td>1994</td>\n",
       "      <td>9.2</td>\n",
       "      <td>Tim Robbins, Morgan Freeman</td>\n",
       "      <td>Frank Darabont</td>\n",
       "    </tr>\n",
       "    <tr>\n",
       "      <th>1</th>\n",
       "      <td>The Godfather</td>\n",
       "      <td>http://www.imdb.com/title/tt0068646/?pf_rd_m=A...</td>\n",
       "      <td>1972</td>\n",
       "      <td>9.2</td>\n",
       "      <td>Marlon Brando, Al Pacino</td>\n",
       "      <td>Francis Ford Coppola</td>\n",
       "    </tr>\n",
       "  </tbody>\n",
       "</table>\n",
       "</div>"
      ],
      "text/plain": [
       "                      Title  \\\n",
       "0  The Shawshank Redemption   \n",
       "1             The Godfather   \n",
       "\n",
       "                                                 URL  Year  Rating  \\\n",
       "0  http://www.imdb.com/title/tt0111161/?pf_rd_m=A...  1994     9.2   \n",
       "1  http://www.imdb.com/title/tt0068646/?pf_rd_m=A...  1972     9.2   \n",
       "\n",
       "                         Actors               Director  \n",
       "0   Tim Robbins, Morgan Freeman        Frank Darabont   \n",
       "1      Marlon Brando, Al Pacino  Francis Ford Coppola   "
      ]
     },
     "execution_count": 78,
     "metadata": {},
     "output_type": "execute_result"
    }
   ],
   "source": [
    "dk = df.drop('Unnamed: 0', axis=1)\n",
    "dk.head(n=2)"
   ]
  },
  {
   "cell_type": "code",
   "execution_count": 84,
   "metadata": {
    "collapsed": true
   },
   "outputs": [],
   "source": [
    "dm = df.reset_index(drop=True)"
   ]
  },
  {
   "cell_type": "code",
   "execution_count": 86,
   "metadata": {
    "collapsed": false
   },
   "outputs": [
    {
     "data": {
      "text/plain": [
       "Index([u'Unnamed: 0', u'Title', u'URL', u'Year', u'Rating', u'Actors',\n",
       "       u'Director'],\n",
       "      dtype='object')"
      ]
     },
     "execution_count": 86,
     "metadata": {},
     "output_type": "execute_result"
    }
   ],
   "source": [
    "dm.columns"
   ]
  },
  {
   "cell_type": "code",
   "execution_count": null,
   "metadata": {
    "collapsed": true
   },
   "outputs": [],
   "source": []
  }
 ],
 "metadata": {
  "kernelspec": {
   "display_name": "Python 2",
   "language": "python",
   "name": "python2"
  },
  "language_info": {
   "codemirror_mode": {
    "name": "ipython",
    "version": 2
   },
   "file_extension": ".py",
   "mimetype": "text/x-python",
   "name": "python",
   "nbconvert_exporter": "python",
   "pygments_lexer": "ipython2",
   "version": "2.7.12"
  }
 },
 "nbformat": 4,
 "nbformat_minor": 2
}
